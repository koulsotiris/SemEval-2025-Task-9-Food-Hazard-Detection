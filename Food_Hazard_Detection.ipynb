{
 "cells": [
  {
   "cell_type": "markdown",
   "metadata": {},
   "source": [
    "# SemEval 2025 Task 9: The Food Hazard Detection Challenge"
   ]
  },
  {
   "cell_type": "markdown",
   "metadata": {},
   "source": [
    "Sotirios Panagiotis Koulouridis "
   ]
  },
  {
   "cell_type": "markdown",
   "metadata": {},
   "source": [
    "## Preprocessing"
   ]
  },
  {
   "cell_type": "code",
   "execution_count": 1,
   "metadata": {},
   "outputs": [],
   "source": [
    "import pandas as pd\n",
    "import torch\n",
    "from sklearn.model_selection import train_test_split\n",
    "from transformers import RobertaModel,RobertaTokenizer,RobertaPreTrainedModel\n",
    "import torch.nn as nn\n",
    "from transformers import Trainer, TrainingArguments\n",
    "from sklearn.preprocessing import LabelEncoder\n",
    "from sklearn.metrics import f1_score\n",
    "import numpy as np"
   ]
  },
  {
   "cell_type": "markdown",
   "metadata": {},
   "source": [
    "### Modify Data Preprocessing"
   ]
  },
  {
   "cell_type": "markdown",
   "metadata": {},
   "source": [
    "We load the dataset incidents_train.csv while setting the first column as the index."
   ]
  },
  {
   "cell_type": "code",
   "execution_count": 2,
   "metadata": {},
   "outputs": [
    {
     "name": "stdout",
     "output_type": "stream",
     "text": [
      "Data Loaded!\n"
     ]
    }
   ],
   "source": [
    "data = pd.read_csv(\"incidents_train.csv\", index_col=0)\n",
    "\n",
    "# Keep only relevant columns that will be used for classification\n",
    "data = data[[\"text\", \"hazard-category\", \"product-category\"]]\n",
    "\n",
    "# Drop any missing values to ensure clean data for training\n",
    "data.dropna(inplace=True)\n",
    "\n",
    "# Convert categorical labels to numerical values for machine learning models\n",
    "hazard_encoder = LabelEncoder()\n",
    "product_encoder = LabelEncoder()\n",
    "\n",
    "data[\"hazard-category\"] = hazard_encoder.fit_transform(data[\"hazard-category\"])\n",
    "data[\"product-category\"] = product_encoder.fit_transform(data[\"product-category\"])\n",
    "\n",
    "# Split the dataset into training and validation sets (80% train, 20% validation)\n",
    "train_texts, val_texts, train_hazard_labels, val_hazard_labels, train_product_labels, val_product_labels = train_test_split(\n",
    "    data[\"text\"].tolist(),\n",
    "    data[\"hazard-category\"].tolist(),\n",
    "    data[\"product-category\"].tolist(),\n",
    "    test_size=0.2, random_state=42\n",
    ")\n",
    "\n",
    "\n",
    "print(\"Data Loaded!\")\n",
    "\n",
    "\n"
   ]
  },
  {
   "cell_type": "markdown",
   "metadata": {},
   "source": [
    "### Tokenize text data"
   ]
  },
  {
   "cell_type": "markdown",
   "metadata": {},
   "source": [
    "We use the `RobertaTokenizer` from Hugging Face's `transformers` library to preprocess text data for the RoBERTa model.\n",
    "\n",
    "Since transformer-based models require tokenized input, we apply the tokenizer to both the training and validation text data.\n",
    "\n",
    "- **Truncation**: Ensures that inputs exceeding the model’s maximum length (512 tokens) are truncated.\n",
    "- **Padding**: Adds padding to shorter sequences so all inputs have the same length.\n",
    "- **Max Length**: Restricts input size to 512 tokens for efficient processing.\n"
   ]
  },
  {
   "cell_type": "code",
   "execution_count": 3,
   "metadata": {},
   "outputs": [
    {
     "data": {
      "application/vnd.jupyter.widget-view+json": {
       "model_id": "ecc72240de034609a989d8c21dc19cd5",
       "version_major": 2,
       "version_minor": 0
      },
      "text/plain": [
       "tokenizer_config.json:   0%|          | 0.00/25.0 [00:00<?, ?B/s]"
      ]
     },
     "metadata": {},
     "output_type": "display_data"
    },
    {
     "data": {
      "application/vnd.jupyter.widget-view+json": {
       "model_id": "aa1e9ececad74a80b3420ae2074b167a",
       "version_major": 2,
       "version_minor": 0
      },
      "text/plain": [
       "vocab.json:   0%|          | 0.00/899k [00:00<?, ?B/s]"
      ]
     },
     "metadata": {},
     "output_type": "display_data"
    },
    {
     "data": {
      "application/vnd.jupyter.widget-view+json": {
       "model_id": "af4d38b20b714c159890bedd2fd1647c",
       "version_major": 2,
       "version_minor": 0
      },
      "text/plain": [
       "merges.txt:   0%|          | 0.00/456k [00:00<?, ?B/s]"
      ]
     },
     "metadata": {},
     "output_type": "display_data"
    },
    {
     "data": {
      "application/vnd.jupyter.widget-view+json": {
       "model_id": "9a231078f41c45658fc5bb0ac1e4ea85",
       "version_major": 2,
       "version_minor": 0
      },
      "text/plain": [
       "tokenizer.json:   0%|          | 0.00/1.36M [00:00<?, ?B/s]"
      ]
     },
     "metadata": {},
     "output_type": "display_data"
    },
    {
     "data": {
      "application/vnd.jupyter.widget-view+json": {
       "model_id": "01fb4109c6cf44b38a8576c87d222bcd",
       "version_major": 2,
       "version_minor": 0
      },
      "text/plain": [
       "config.json:   0%|          | 0.00/481 [00:00<?, ?B/s]"
      ]
     },
     "metadata": {},
     "output_type": "display_data"
    },
    {
     "name": "stdout",
     "output_type": "stream",
     "text": [
      "Data Tokenized Successfully!\n"
     ]
    }
   ],
   "source": [
    "# Initialize the RoBERTa tokenizer to preprocess text for the model\n",
    "tokenizer = RobertaTokenizer.from_pretrained(\"roberta-base\")\n",
    "\n",
    "# Tokenize training and validation texts, truncating or padding to max length 512\n",
    "train_encodings = tokenizer(train_texts, truncation=True, padding=True, max_length=512)\n",
    "val_encodings = tokenizer(val_texts, truncation=True, padding=True, max_length=512)\n",
    "\n",
    "print(\"Data Tokenized Successfully!\")\n",
    "\n"
   ]
  },
  {
   "cell_type": "markdown",
   "metadata": {},
   "source": [
    "### Create PyTorch dataset class"
   ]
  },
  {
   "cell_type": "markdown",
   "metadata": {},
   "source": [
    "We need a way to store our tokenized text along with their hazard and product labels. To do this, we define a custom PyTorch dataset class.\n",
    "\n",
    "This class:\n",
    "- Stores the tokenized text (`encodings`).\n",
    "- Stores the hazard and product labels (`hazard_labels`, `product_labels`)."
   ]
  },
  {
   "cell_type": "code",
   "execution_count": 4,
   "metadata": {},
   "outputs": [
    {
     "name": "stdout",
     "output_type": "stream",
     "text": [
      "Datasets created!\n"
     ]
    }
   ],
   "source": [
    "# Custom dataset class to store encoded texts and corresponding labels\n",
    "class FoodHazardDataset(torch.utils.data.Dataset):\n",
    "    def __init__(self, encodings, hazard_labels, product_labels):\n",
    "        self.encodings = encodings\n",
    "        self.hazard_labels = hazard_labels\n",
    "        self.product_labels = product_labels\n",
    "\n",
    "    def __len__(self):\n",
    "        return len(self.hazard_labels)\n",
    "\n",
    "    def __getitem__(self, idx):\n",
    "        item = {key: torch.tensor(val[idx]) for key, val in self.encodings.items()}\n",
    "        item[\"hazard_labels\"] = torch.tensor(self.hazard_labels[idx])\n",
    "        item[\"product_labels\"] = torch.tensor(self.product_labels[idx])\n",
    "        return item\n",
    "\n",
    "# Convert processed data into PyTorch datasets for training and evaluation\n",
    "train_dataset = FoodHazardDataset(train_encodings, train_hazard_labels, train_product_labels)\n",
    "val_dataset = FoodHazardDataset(val_encodings, val_hazard_labels, val_product_labels)\n",
    "\n",
    "print(\"Datasets created!\")\n"
   ]
  },
  {
   "cell_type": "markdown",
   "metadata": {},
   "source": [
    "### Define RoBERTa model for multi-label classification"
   ]
  },
  {
   "cell_type": "markdown",
   "metadata": {},
   "source": [
    "Since we’re predicting both **hazard categories** and **product categories**, we need to modify RoBERTa .\n",
    "\n",
    "We extend `RobertaPreTrainedModel` to create `MultiLabelRoBERTa`, which includes:\n",
    "- A **dropout layer** to prevent overfitting.\n",
    "- Two **separate classifiers**: \n",
    "  - One for hazard classification.\n",
    "  - One for product classification.\n",
    "- A **cross-entropy loss function** for training.\n"
   ]
  },
  {
   "cell_type": "markdown",
   "metadata": {},
   "source": [
    "The input is passed through **RoBERTa**. The output is processed by **dropout** and the two classifiers. If labels are provided, it computes **loss** (for training)."
   ]
  },
  {
   "cell_type": "code",
   "execution_count": 5,
   "metadata": {},
   "outputs": [
    {
     "name": "stdout",
     "output_type": "stream",
     "text": [
      "RoBERTa ready!\n"
     ]
    }
   ],
   "source": [
    "class MultiLabelRoBERTa(RobertaPreTrainedModel):  \n",
    "    def __init__(self, config, num_hazard_labels, num_product_labels):\n",
    "        super().__init__(config)\n",
    "        self.roberta = RobertaModel(config)  # Ensure correct import\n",
    "        self.dropout = nn.Dropout(0.4) # To prevent overfitting\n",
    "        self.hazard_classifier = nn.Linear(config.hidden_size, num_hazard_labels)  # For hazard classification\n",
    "        self.product_classifier = nn.Linear(config.hidden_size, num_product_labels) # For product classification \n",
    "        self.loss_fn = nn.CrossEntropyLoss()\n",
    "    \n",
    "    #If labels are provided, it computes loss (for training) . Otherwise, it simply returns logits.\n",
    "    def forward(self, input_ids, attention_mask, hazard_labels=None, product_labels=None):\n",
    "        outputs = self.roberta(input_ids, attention_mask=attention_mask)  \n",
    "        pooled_output = outputs.pooler_output\n",
    "        hazard_logits = self.hazard_classifier(self.dropout(pooled_output))\n",
    "        product_logits = self.product_classifier(self.dropout(pooled_output))\n",
    "\n",
    "        loss = None\n",
    "        if hazard_labels is not None and product_labels is not None:\n",
    "            hazard_loss = self.loss_fn(hazard_logits, hazard_labels)\n",
    "            product_loss = self.loss_fn(product_logits, product_labels)\n",
    "            loss = (hazard_loss + product_loss) / 2\n",
    "\n",
    "        return {\"loss\": loss, \"hazard_logits\": hazard_logits, \"product_logits\": product_logits}\n",
    "\n",
    "    print(\"RoBERTa ready!\")\n",
    "\n",
    "\n"
   ]
  },
  {
   "cell_type": "markdown",
   "metadata": {},
   "source": [
    "### Define evaluation function"
   ]
  },
  {
   "cell_type": "markdown",
   "metadata": {},
   "source": [
    "Function to calculate F1-score for both hazard and product classification"
   ]
  },
  {
   "cell_type": "code",
   "execution_count": 6,
   "metadata": {},
   "outputs": [],
   "source": [
    "def evaluate_predictions(true_hazards, true_products, predicted_hazards, predicted_products):\n",
    "    true_hazards = np.array(true_hazards)\n",
    "    true_products = np.array(true_products)\n",
    "    predicted_hazards = np.array(predicted_hazards)\n",
    "    predicted_products = np.array(predicted_products)\n",
    "\n",
    "    f1_hazard = f1_score(true_hazards, predicted_hazards, average=\"macro\")\n",
    "    correct_hazard_mask = (true_hazards == predicted_hazards)\n",
    "\n",
    "    if correct_hazard_mask.any():\n",
    "        f1_product = f1_score(true_products[correct_hazard_mask], predicted_products[correct_hazard_mask], average=\"macro\")\n",
    "    else:\n",
    "        f1_product = 0\n",
    "\n",
    "    overall_f1 = (f1_hazard + f1_product) / 2\n",
    "    return {\"F1_Hazard\": f1_hazard, \"F1_Product\": f1_product, \"Final_Score\": overall_f1}\n"
   ]
  },
  {
   "cell_type": "markdown",
   "metadata": {},
   "source": [
    "### Integrate evaluation with Hugging Face Trainer"
   ]
  },
  {
   "cell_type": "markdown",
   "metadata": {},
   "source": [
    "Function to wrap the evaluation function for use in Hugging Face's Trainer\n"
   ]
  },
  {
   "cell_type": "code",
   "execution_count": 7,
   "metadata": {},
   "outputs": [],
   "source": [
    "def compute_semeval_metrics(pred):\n",
    "    true_hazards = pred.label_ids[0]\n",
    "    true_products = pred.label_ids[1]\n",
    "    predicted_hazards = pred.predictions[0].argmax(-1)\n",
    "    predicted_products = pred.predictions[1].argmax(-1)\n",
    "    return evaluate_predictions(true_hazards, true_products, predicted_hazards, predicted_products)\n"
   ]
  },
  {
   "cell_type": "code",
   "execution_count": 8,
   "metadata": {},
   "outputs": [],
   "source": [
    "import gc\n",
    "import torch\n",
    "\n",
    "gc.collect()\n",
    "torch.cuda.empty_cache()"
   ]
  },
  {
   "cell_type": "markdown",
   "metadata": {},
   "source": [
    "## ST1: Text classification for food hazard prediction, predicting the type of hazard and product"
   ]
  },
  {
   "cell_type": "markdown",
   "metadata": {},
   "source": [
    "### Train the model"
   ]
  },
  {
   "cell_type": "markdown",
   "metadata": {},
   "source": [
    "Set up training arguments for fine-tuning RoBERTa ."
   ]
  },
  {
   "cell_type": "code",
   "execution_count": 9,
   "metadata": {},
   "outputs": [],
   "source": [
    "training_args = TrainingArguments(\n",
    "    output_dir=\"./results\", # to save checkpoints\n",
    "    eval_strategy=\"epoch\",\n",
    "    fp16=True,  # Use less memory\n",
    "    save_total_limit=1, # keeps only the last checkpoint\n",
    "    save_strategy=\"epoch\", \n",
    "    save_only_model=True,\n",
    "    logging_dir=\"./logs\", # to save logs \n",
    "    per_device_train_batch_size=2,\n",
    "    per_device_eval_batch_size=2,\n",
    "    gradient_accumulation_steps=4,  # Simulates batch size 8\n",
    "    num_train_epochs=10, # train for 10 full passes\n",
    "    weight_decay=0.01, \n",
    "    learning_rate=3e-5 # low learning rate so we can have more stable learning\n",
    ")"
   ]
  },
  {
   "cell_type": "markdown",
   "metadata": {},
   "source": [
    "Here we fine-tune the model , then we begin training ."
   ]
  },
  {
   "cell_type": "code",
   "execution_count": 10,
   "metadata": {},
   "outputs": [
    {
     "data": {
      "application/vnd.jupyter.widget-view+json": {
       "model_id": "f79a5b48ae61438f9a8fc0074d0811b8",
       "version_major": 2,
       "version_minor": 0
      },
      "text/plain": [
       "model.safetensors:   0%|          | 0.00/499M [00:00<?, ?B/s]"
      ]
     },
     "metadata": {},
     "output_type": "display_data"
    },
    {
     "name": "stderr",
     "output_type": "stream",
     "text": [
      "Some weights of MultiLabelRoBERTa were not initialized from the model checkpoint at roberta-base and are newly initialized: ['hazard_classifier.bias', 'hazard_classifier.weight', 'product_classifier.bias', 'product_classifier.weight', 'roberta.pooler.dense.bias', 'roberta.pooler.dense.weight']\n",
      "You should probably TRAIN this model on a down-stream task to be able to use it for predictions and inference.\n"
     ]
    },
    {
     "data": {
      "text/html": [
       "\n",
       "    <div>\n",
       "      \n",
       "      <progress value='5080' max='5080' style='width:300px; height:20px; vertical-align: middle;'></progress>\n",
       "      [5080/5080 21:03, Epoch 9/10]\n",
       "    </div>\n",
       "    <table border=\"1\" class=\"dataframe\">\n",
       "  <thead>\n",
       " <tr style=\"text-align: left;\">\n",
       "      <th>Epoch</th>\n",
       "      <th>Training Loss</th>\n",
       "      <th>Validation Loss</th>\n",
       "      <th>F1 Hazard</th>\n",
       "      <th>F1 Product</th>\n",
       "      <th>Final Score</th>\n",
       "    </tr>\n",
       "  </thead>\n",
       "  <tbody>\n",
       "    <tr>\n",
       "      <td>1</td>\n",
       "      <td>1.421300</td>\n",
       "      <td>0.980987</td>\n",
       "      <td>0.458406</td>\n",
       "      <td>0.307762</td>\n",
       "      <td>0.383084</td>\n",
       "    </tr>\n",
       "    <tr>\n",
       "      <td>2</td>\n",
       "      <td>0.830600</td>\n",
       "      <td>0.688179</td>\n",
       "      <td>0.525738</td>\n",
       "      <td>0.441661</td>\n",
       "      <td>0.483699</td>\n",
       "    </tr>\n",
       "    <tr>\n",
       "      <td>3</td>\n",
       "      <td>0.571800</td>\n",
       "      <td>0.636289</td>\n",
       "      <td>0.639984</td>\n",
       "      <td>0.560905</td>\n",
       "      <td>0.600444</td>\n",
       "    </tr>\n",
       "    <tr>\n",
       "      <td>4</td>\n",
       "      <td>0.406800</td>\n",
       "      <td>0.593007</td>\n",
       "      <td>0.638351</td>\n",
       "      <td>0.616735</td>\n",
       "      <td>0.627543</td>\n",
       "    </tr>\n",
       "    <tr>\n",
       "      <td>5</td>\n",
       "      <td>0.309000</td>\n",
       "      <td>0.615782</td>\n",
       "      <td>0.654155</td>\n",
       "      <td>0.595197</td>\n",
       "      <td>0.624676</td>\n",
       "    </tr>\n",
       "    <tr>\n",
       "      <td>6</td>\n",
       "      <td>0.219800</td>\n",
       "      <td>0.627984</td>\n",
       "      <td>0.703733</td>\n",
       "      <td>0.591402</td>\n",
       "      <td>0.647568</td>\n",
       "    </tr>\n",
       "    <tr>\n",
       "      <td>7</td>\n",
       "      <td>0.169500</td>\n",
       "      <td>0.661250</td>\n",
       "      <td>0.697352</td>\n",
       "      <td>0.645554</td>\n",
       "      <td>0.671453</td>\n",
       "    </tr>\n",
       "    <tr>\n",
       "      <td>8</td>\n",
       "      <td>0.116500</td>\n",
       "      <td>0.688430</td>\n",
       "      <td>0.718162</td>\n",
       "      <td>0.618744</td>\n",
       "      <td>0.668453</td>\n",
       "    </tr>\n",
       "    <tr>\n",
       "      <td>9</td>\n",
       "      <td>0.073300</td>\n",
       "      <td>0.721713</td>\n",
       "      <td>0.707781</td>\n",
       "      <td>0.614757</td>\n",
       "      <td>0.661269</td>\n",
       "    </tr>\n",
       "  </tbody>\n",
       "</table><p>"
      ],
      "text/plain": [
       "<IPython.core.display.HTML object>"
      ]
     },
     "metadata": {},
     "output_type": "display_data"
    },
    {
     "data": {
      "text/plain": [
       "TrainOutput(global_step=5080, training_loss=0.4151332281705901, metrics={'train_runtime': 1264.6029, 'train_samples_per_second': 32.144, 'train_steps_per_second': 4.017, 'total_flos': 1.06791330275328e+16, 'train_loss': 0.4151332281705901, 'epoch': 9.981800295130348})"
      ]
     },
     "execution_count": 10,
     "metadata": {},
     "output_type": "execute_result"
    }
   ],
   "source": [
    "# Initialize the multi-label classification model\n",
    "num_hazard_labels = len(set(train_hazard_labels))\n",
    "num_product_labels = len(set(train_product_labels))\n",
    "model = MultiLabelRoBERTa.from_pretrained(\"roberta-base\", num_hazard_labels=num_hazard_labels, num_product_labels=num_product_labels)\n",
    "\n",
    "# Define the Trainer for fine-tuning the model\n",
    "trainer = Trainer(\n",
    "    model=model,\n",
    "    args=training_args,\n",
    "    train_dataset=train_dataset,\n",
    "    eval_dataset=val_dataset,\n",
    "    compute_metrics=compute_semeval_metrics,\n",
    ")\n",
    "\n",
    "# Begin training\n",
    "trainer.train()"
   ]
  },
  {
   "cell_type": "markdown",
   "metadata": {},
   "source": [
    "### Evaluate the trained model"
   ]
  },
  {
   "cell_type": "code",
   "execution_count": 11,
   "metadata": {},
   "outputs": [
    {
     "data": {
      "text/html": [
       "\n",
       "    <div>\n",
       "      \n",
       "      <progress value='509' max='509' style='width:300px; height:20px; vertical-align: middle;'></progress>\n",
       "      [509/509 00:09]\n",
       "    </div>\n",
       "    "
      ],
      "text/plain": [
       "<IPython.core.display.HTML object>"
      ]
     },
     "metadata": {},
     "output_type": "display_data"
    },
    {
     "data": {
      "text/plain": [
       "{'eval_loss': 0.7217125296592712,\n",
       " 'eval_F1_Hazard': 0.7077805000959663,\n",
       " 'eval_F1_Product': 0.6147565653683743,\n",
       " 'eval_Final_Score': 0.6612685327321703,\n",
       " 'eval_runtime': 9.848,\n",
       " 'eval_samples_per_second': 103.269,\n",
       " 'eval_steps_per_second': 51.685,\n",
       " 'epoch': 9.981800295130348}"
      ]
     },
     "execution_count": 11,
     "metadata": {},
     "output_type": "execute_result"
    }
   ],
   "source": [
    "trainer.evaluate()"
   ]
  },
  {
   "cell_type": "markdown",
   "metadata": {},
   "source": [
    "### Generate predictions on test data"
   ]
  },
  {
   "cell_type": "code",
   "execution_count": 12,
   "metadata": {},
   "outputs": [
    {
     "name": "stdout",
     "output_type": "stream",
     "text": [
      "Submission file saved as submission.csv!\n"
     ]
    }
   ],
   "source": [
    "def generate_predictions(test_texts):\n",
    "    encodings = tokenizer(test_texts, truncation=True, padding=True, max_length=128, return_tensors=\"pt\")\n",
    "\n",
    "    encodings.pop(\"token_type_ids\", None)\n",
    "    \n",
    "    # Detect the device (CPU or GPU)\n",
    "    device = torch.device(\"cuda\" if torch.cuda.is_available() else \"cpu\")\n",
    "    \n",
    "    # Move model to the correct device\n",
    "    model.to(device)\n",
    "    \n",
    "    # Move input tensors to the same device as the model\n",
    "    encodings = {key: val.to(device) for key, val in encodings.items() if key != \"token_type_ids\"}  # Remove 'token_type_ids'\n",
    "    \n",
    "    # Run inference\n",
    "    with torch.no_grad():\n",
    "        outputs = model(**encodings)\n",
    "    \n",
    "    # Get predictions\n",
    "    hazard_preds = outputs[\"hazard_logits\"].argmax(-1).cpu().tolist()  # Move back to CPU for processing\n",
    "    product_preds = outputs[\"product_logits\"].argmax(-1).cpu().tolist()\n",
    "    \n",
    "    return hazard_encoder.inverse_transform(hazard_preds), product_encoder.inverse_transform(product_preds)\n",
    "\n",
    "\n",
    "\n",
    "# Load test dataset\n",
    "test_data = pd.read_csv(\"incidents_test.csv\")\n",
    "test_texts = test_data[\"text\"].tolist()\n",
    "hazard_predictions, product_predictions = generate_predictions(test_texts)\n",
    "\n",
    "test_data[\"predicted_hazard\"] = hazard_predictions\n",
    "test_data[\"predicted_product\"] = product_predictions\n",
    "\n",
    "# Keep only required columns\n",
    "test_data = test_data[[\"Unnamed: 0\", \"predicted_hazard\", \"predicted_product\"]]\n",
    "\n",
    "test_data.to_csv(\"submission.csv\", index=False)\n",
    "print(\"Submission file saved as submission.csv!\")"
   ]
  },
  {
   "cell_type": "code",
   "execution_count": 13,
   "metadata": {},
   "outputs": [
    {
     "name": "stdout",
     "output_type": "stream",
     "text": [
      "First 5 Predictions:\n",
      "   Unnamed: 0 predicted_hazard             predicted_product\n",
      "0           0   foreign bodies  meat, egg and dairy products\n",
      "1           1   foreign bodies  meat, egg and dairy products\n",
      "2           2   foreign bodies  meat, egg and dairy products\n",
      "3           3       biological  meat, egg and dairy products\n",
      "4           4   foreign bodies    prepared dishes and snacks\n"
     ]
    }
   ],
   "source": [
    "# Print the first few rows to check predictions\n",
    "print(\"First 5 Predictions:\")\n",
    "print(test_data[[\"Unnamed: 0\", \"predicted_hazard\", \"predicted_product\"]].head())  "
   ]
  },
  {
   "cell_type": "markdown",
   "metadata": {},
   "source": [
    "### Plotting"
   ]
  },
  {
   "cell_type": "markdown",
   "metadata": {},
   "source": [
    "We have made a plot in order to observe how the `training loss` reduces in each pass of the training data. (epochs)"
   ]
  },
  {
   "cell_type": "code",
   "execution_count": 14,
   "metadata": {},
   "outputs": [
    {
     "name": "stderr",
     "output_type": "stream",
     "text": [
      "Matplotlib is building the font cache; this may take a moment.\n"
     ]
    },
    {
     "data": {
      "image/png": "[encoded data removed]",
      "text/plain": [
       "<Figure size 640x480 with 1 Axes>"
      ]
     },
     "metadata": {},
     "output_type": "display_data"
    }
   ],
   "source": [
    "import matplotlib.pyplot as plt\n",
    "\n",
    "# Extract loss values from Trainer logs\n",
    "train_losses = trainer.state.log_history\n",
    "train_loss_values = [entry['loss'] for entry in train_losses if 'loss' in entry]\n",
    "epochs = list(range(1, len(train_loss_values) + 1))\n",
    "\n",
    "# Plot\n",
    "plt.plot(epochs, train_loss_values, marker=\"o\", label=\"Training Loss\")\n",
    "plt.xlabel(\"Epochs\")\n",
    "plt.ylabel(\"Loss\")\n",
    "plt.title(\"Training Loss vs. Epochs\")\n",
    "plt.legend()\n",
    "plt.grid()\n",
    "plt.show()\n"
   ]
  },
  {
   "cell_type": "markdown",
   "metadata": {},
   "source": [
    "## ST2: Food Hazard and Product \"Vector\" Detection"
   ]
  },
  {
   "cell_type": "code",
   "execution_count": 15,
   "metadata": {},
   "outputs": [
    {
     "data": {
      "text/html": [
       "<div>\n",
       "<style scoped>\n",
       "    .dataframe tbody tr th:only-of-type {\n",
       "        vertical-align: middle;\n",
       "    }\n",
       "\n",
       "    .dataframe tbody tr th {\n",
       "        vertical-align: top;\n",
       "    }\n",
       "\n",
       "    .dataframe thead th {\n",
       "        text-align: right;\n",
       "    }\n",
       "</style>\n",
       "<table border=\"1\" class=\"dataframe\">\n",
       "  <thead>\n",
       "    <tr style=\"text-align: right;\">\n",
       "      <th></th>\n",
       "      <th>Unnamed: 0</th>\n",
       "      <th>year</th>\n",
       "      <th>month</th>\n",
       "      <th>day</th>\n",
       "      <th>country</th>\n",
       "      <th>title</th>\n",
       "      <th>text</th>\n",
       "      <th>hazard-category</th>\n",
       "      <th>product-category</th>\n",
       "      <th>hazard</th>\n",
       "      <th>product</th>\n",
       "    </tr>\n",
       "  </thead>\n",
       "  <tbody>\n",
       "    <tr>\n",
       "      <th>0</th>\n",
       "      <td>0</td>\n",
       "      <td>1994</td>\n",
       "      <td>1</td>\n",
       "      <td>7</td>\n",
       "      <td>us</td>\n",
       "      <td>Recall Notification: FSIS-024-94</td>\n",
       "      <td>Case Number: 024-94   \\n            Date Opene...</td>\n",
       "      <td>biological</td>\n",
       "      <td>meat, egg and dairy products</td>\n",
       "      <td>listeria monocytogenes</td>\n",
       "      <td>smoked sausage</td>\n",
       "    </tr>\n",
       "    <tr>\n",
       "      <th>1</th>\n",
       "      <td>1</td>\n",
       "      <td>1994</td>\n",
       "      <td>3</td>\n",
       "      <td>10</td>\n",
       "      <td>us</td>\n",
       "      <td>Recall Notification: FSIS-033-94</td>\n",
       "      <td>Case Number: 033-94   \\n            Date Opene...</td>\n",
       "      <td>biological</td>\n",
       "      <td>meat, egg and dairy products</td>\n",
       "      <td>listeria spp</td>\n",
       "      <td>sausage</td>\n",
       "    </tr>\n",
       "    <tr>\n",
       "      <th>2</th>\n",
       "      <td>2</td>\n",
       "      <td>1994</td>\n",
       "      <td>3</td>\n",
       "      <td>28</td>\n",
       "      <td>us</td>\n",
       "      <td>Recall Notification: FSIS-014-94</td>\n",
       "      <td>Case Number: 014-94   \\n            Date Opene...</td>\n",
       "      <td>biological</td>\n",
       "      <td>meat, egg and dairy products</td>\n",
       "      <td>listeria monocytogenes</td>\n",
       "      <td>ham slices</td>\n",
       "    </tr>\n",
       "    <tr>\n",
       "      <th>3</th>\n",
       "      <td>3</td>\n",
       "      <td>1994</td>\n",
       "      <td>4</td>\n",
       "      <td>3</td>\n",
       "      <td>us</td>\n",
       "      <td>Recall Notification: FSIS-009-94</td>\n",
       "      <td>Case Number: 009-94   \\n            Date Opene...</td>\n",
       "      <td>foreign bodies</td>\n",
       "      <td>meat, egg and dairy products</td>\n",
       "      <td>plastic fragment</td>\n",
       "      <td>thermal processed pork meat</td>\n",
       "    </tr>\n",
       "    <tr>\n",
       "      <th>4</th>\n",
       "      <td>4</td>\n",
       "      <td>1994</td>\n",
       "      <td>7</td>\n",
       "      <td>1</td>\n",
       "      <td>us</td>\n",
       "      <td>Recall Notification: FSIS-001-94</td>\n",
       "      <td>Case Number: 001-94   \\n            Date Opene...</td>\n",
       "      <td>foreign bodies</td>\n",
       "      <td>meat, egg and dairy products</td>\n",
       "      <td>plastic fragment</td>\n",
       "      <td>chicken breast</td>\n",
       "    </tr>\n",
       "  </tbody>\n",
       "</table>\n",
       "</div>"
      ],
      "text/plain": [
       "   Unnamed: 0  year  month  day country                             title  \\\n",
       "0           0  1994      1    7      us  Recall Notification: FSIS-024-94   \n",
       "1           1  1994      3   10      us  Recall Notification: FSIS-033-94   \n",
       "2           2  1994      3   28      us  Recall Notification: FSIS-014-94   \n",
       "3           3  1994      4    3      us  Recall Notification: FSIS-009-94   \n",
       "4           4  1994      7    1      us  Recall Notification: FSIS-001-94   \n",
       "\n",
       "                                                text hazard-category  \\\n",
       "0  Case Number: 024-94   \\n            Date Opene...      biological   \n",
       "1  Case Number: 033-94   \\n            Date Opene...      biological   \n",
       "2  Case Number: 014-94   \\n            Date Opene...      biological   \n",
       "3  Case Number: 009-94   \\n            Date Opene...  foreign bodies   \n",
       "4  Case Number: 001-94   \\n            Date Opene...  foreign bodies   \n",
       "\n",
       "               product-category                  hazard  \\\n",
       "0  meat, egg and dairy products  listeria monocytogenes   \n",
       "1  meat, egg and dairy products            listeria spp   \n",
       "2  meat, egg and dairy products  listeria monocytogenes   \n",
       "3  meat, egg and dairy products        plastic fragment   \n",
       "4  meat, egg and dairy products        plastic fragment   \n",
       "\n",
       "                       product  \n",
       "0               smoked sausage  \n",
       "1                      sausage  \n",
       "2                   ham slices  \n",
       "3  thermal processed pork meat  \n",
       "4               chicken breast  "
      ]
     },
     "execution_count": 15,
     "metadata": {},
     "output_type": "execute_result"
    }
   ],
   "source": [
    "# Load the training dataset for ST2\n",
    "data_st2 = pd.read_csv(\"incidents_train.csv\")\n",
    "\n",
    "# Display the first few rows to understand its structure\n",
    "data_st2.head()"
   ]
  },
  {
   "cell_type": "markdown",
   "metadata": {},
   "source": [
    "### Preprocess Data for ST2"
   ]
  },
  {
   "cell_type": "markdown",
   "metadata": {},
   "source": [
    "I tried using **spaCy’s NER** to extract named entities (like names, locations, and organizations) from text and add them as extra features.\n",
    "\n",
    "I applied the function to extract NER features and combined them with the original text. It is an attempt to make the f1 score better. \n",
    "\n",
    "Tried to use `en_core_web_trf` but it was way too slow . Then tried to use `one-hot` labels but difficulty was too high . I have an experimental implementation at the end of the notebook. (Experimenting 1)\n",
    "\n",
    "I also tried using the predictions from ST1 as features in the dataset of ST2, but I couldn't proceed due to errors. (Experimenting 2)"
   ]
  },
  {
   "cell_type": "code",
   "execution_count": 16,
   "metadata": {},
   "outputs": [
    {
     "name": "stdout",
     "output_type": "stream",
     "text": [
      "Preprocessing Completed!\n"
     ]
    }
   ],
   "source": [
    "import spacy\n",
    "#from sklearn.preprocessing import MultiLabelBinarizer\n",
    "\n",
    "# Load spaCy NER model\n",
    "nlp = spacy.load(\"en_core_web_sm\")\n",
    "\n",
    "def extract_entities(text):\n",
    "    \"\"\"Extract named entities from text using spaCy\"\"\"\n",
    "    doc = nlp(text)\n",
    "    entities = [ent.text for ent in doc.ents]\n",
    "    return \" \".join(entities) if entities else \"NONE\"  # Avoid empty NER fields\n",
    "\n",
    "# Load data\n",
    "data_st2[\"ner_features\"] = data_st2[\"text\"].apply(extract_entities)\n",
    "\n",
    "# Combined with the original text.\n",
    "data_st2[\"text_with_ner\"] = data_st2[\"text\"] + \" [NER] \" + data_st2[\"ner_features\"]\n",
    "\n",
    "# Encode hazard and product labels\n",
    "hazard_encoder_st2 = LabelEncoder()\n",
    "product_encoder_st2 = LabelEncoder()\n",
    "\n",
    "data_st2[\"hazard\"] = hazard_encoder_st2.fit_transform(data_st2[\"hazard\"])\n",
    "data_st2[\"product\"] = product_encoder_st2.fit_transform(data_st2[\"product\"])\n",
    "\n",
    "# **Convert `hazard` & `product` labels to lists for MultiLabelBinarizer**\n",
    "# data_st2[\"hazard\"] = data_st2[\"hazard\"].apply(lambda x: [x] if isinstance(x, int) else x)\n",
    "# data_st2[\"product\"] = data_st2[\"product\"].apply(lambda x: [x] if isinstance(x, int) else x)\n",
    "\n",
    "# # Use MultiLabelBinarizer for encoding labels\n",
    "# hazard_encoder_st2 = MultiLabelBinarizer()\n",
    "# product_encoder_st2 = MultiLabelBinarizer()\n",
    "\n",
    "print(\"Preprocessing Completed!\")"
   ]
  },
  {
   "cell_type": "markdown",
   "metadata": {},
   "source": [
    "### Tokenize and Prepare PyTorch Dataset for ST2"
   ]
  },
  {
   "cell_type": "markdown",
   "metadata": {},
   "source": [
    "I used the `RobertaTokenizer` to tokenize `text_with_ner`, ensuring:\n",
    "- **Truncation**: Texts longer than 512 tokens are cut.\n",
    "- **Padding**: Shorter texts are padded to 512 tokens.\n",
    "- **Return PyTorch tensors**: Data is returned in tensor format."
   ]
  },
  {
   "cell_type": "markdown",
   "metadata": {},
   "source": [
    "Since we are working with hazard and product labels, I created a PyTorch dataset class to store: `Tokenized text` , `Hazard labels` , `Product labels`"
   ]
  },
  {
   "cell_type": "code",
   "execution_count": 17,
   "metadata": {},
   "outputs": [
    {
     "name": "stdout",
     "output_type": "stream",
     "text": [
      "Tokenization completed!\n"
     ]
    }
   ],
   "source": [
    "# Tokenize using roBERTa\n",
    "st2_tokenizer = RobertaTokenizer.from_pretrained(\"roberta-base\")\n",
    "st2_encodings = st2_tokenizer(list(data_st2[\"text_with_ner\"]), truncation=True, padding=True, max_length=512,return_tensors=\"pt\")\n",
    "\n",
    "# Remove token_type_ids before passing to model\n",
    "st2_encodings.pop(\"token_type_ids\", None)\n",
    "\n",
    "class ST2Dataset(torch.utils.data.Dataset):\n",
    "    def __init__(self, encodings, hazard_labels, product_labels):\n",
    "        self.encodings = encodings\n",
    "        self.hazard_labels = hazard_labels\n",
    "        self.product_labels = product_labels\n",
    "\n",
    "    def __len__(self):\n",
    "        return len(self.hazard_labels)\n",
    "\n",
    "    def __getitem__(self, idx):\n",
    "        item = {key: torch.tensor(val[idx]) for key, val in self.encodings.items()}\n",
    "        item[\"hazard_labels\"] = torch.tensor(self.hazard_labels[idx])\n",
    "        item[\"product_labels\"] = torch.tensor(self.product_labels[idx])\n",
    "        return item\n",
    "\n",
    "# Split the dataset into training (80%) and validation (20%)\n",
    "train_texts_st2, val_texts_st2, train_hazards_st2, val_hazards_st2, train_products_st2, val_products_st2 = train_test_split(\n",
    "    data_st2[\"text_with_ner\"].tolist(),\n",
    "    data_st2[\"hazard\"].tolist(),\n",
    "    data_st2[\"product\"].tolist(),\n",
    "    test_size=0.2, random_state=42\n",
    ")\n",
    "\n",
    "# Tokenize training and validation texts\n",
    "train_encodings_st2 = st2_tokenizer(train_texts_st2, truncation=True, padding=True, max_length=512)\n",
    "val_encodings_st2 = st2_tokenizer(val_texts_st2, truncation=True, padding=True, max_length=512)\n",
    "\n",
    "# Convert tokenized data to PyTorch dataset\n",
    "train_dataset_st2 = ST2Dataset(train_encodings_st2, train_hazards_st2, train_products_st2)\n",
    "val_dataset_st2 = ST2Dataset(val_encodings_st2, val_hazards_st2, val_products_st2)\n",
    "\n",
    "print(\"Tokenization completed!\")"
   ]
  },
  {
   "cell_type": "markdown",
   "metadata": {},
   "source": [
    "### Funtion to compute f1 score"
   ]
  },
  {
   "cell_type": "code",
   "execution_count": 18,
   "metadata": {},
   "outputs": [
    {
     "name": "stdout",
     "output_type": "stream",
     "text": [
      "ok\n"
     ]
    }
   ],
   "source": [
    "def compute_f1_score_st2(eval_pred):\n",
    "    logits, labels = eval_pred  \n",
    "\n",
    "    # Split logits for hazard & product classification\n",
    "    logits_hazard, logits_product = logits\n",
    "\n",
    "    # Convert logits to predicted labels\n",
    "    hazard_preds = np.argmax(logits_hazard, axis=-1)\n",
    "    product_preds = np.argmax(logits_product, axis=-1)\n",
    "\n",
    "    # Unpack true labels\n",
    "    hazard_labels, product_labels = labels\n",
    "\n",
    "    # Compute F1-score for hazard classification\n",
    "    f1_hazard = f1_score(hazard_labels, hazard_preds, average=\"macro\")\n",
    "\n",
    "    # Compute F1-score for product classification (only when hazard is correct)\n",
    "    correct_hazard_mask = (hazard_labels == hazard_preds)\n",
    "\n",
    "    if correct_hazard_mask.any():\n",
    "        f1_product = f1_score(np.array(product_labels)[correct_hazard_mask], np.array(product_preds)[correct_hazard_mask], average=\"macro\")\n",
    "    else:\n",
    "        f1_product = 0\n",
    "\n",
    "    # Compute final ST2 score\n",
    "    final_f1_score = (f1_hazard + f1_product) / 2\n",
    "\n",
    "    return {\"F1_Hazard\": f1_hazard, \"F1_Product\": f1_product, \"Final_F1_Score\": final_f1_score}\n",
    "\n",
    "print(\"ok\")"
   ]
  },
  {
   "cell_type": "markdown",
   "metadata": {},
   "source": [
    "Empty cache"
   ]
  },
  {
   "cell_type": "code",
   "execution_count": 19,
   "metadata": {},
   "outputs": [],
   "source": [
    "import gc\n",
    "import torch\n",
    "\n",
    "gc.collect()\n",
    "torch.cuda.empty_cache()"
   ]
  },
  {
   "cell_type": "markdown",
   "metadata": {},
   "source": [
    "### Train ST2 Model"
   ]
  },
  {
   "cell_type": "markdown",
   "metadata": {},
   "source": [
    "Here we fine-tune the model , then we begin training ."
   ]
  },
  {
   "cell_type": "code",
   "execution_count": 20,
   "metadata": {},
   "outputs": [
    {
     "name": "stderr",
     "output_type": "stream",
     "text": [
      "Some weights of MultiLabelRoBERTa were not initialized from the model checkpoint at roberta-base and are newly initialized: ['hazard_classifier.bias', 'hazard_classifier.weight', 'product_classifier.bias', 'product_classifier.weight', 'roberta.pooler.dense.bias', 'roberta.pooler.dense.weight']\n",
      "You should probably TRAIN this model on a down-stream task to be able to use it for predictions and inference.\n"
     ]
    },
    {
     "data": {
      "text/html": [
       "\n",
       "    <div>\n",
       "      \n",
       "      <progress value='5080' max='5080' style='width:300px; height:20px; vertical-align: middle;'></progress>\n",
       "      [5080/5080 22:23, Epoch 9/10]\n",
       "    </div>\n",
       "    <table border=\"1\" class=\"dataframe\">\n",
       "  <thead>\n",
       " <tr style=\"text-align: left;\">\n",
       "      <th>Epoch</th>\n",
       "      <th>Training Loss</th>\n",
       "      <th>Validation Loss</th>\n",
       "      <th>F1 Hazard</th>\n",
       "      <th>F1 Product</th>\n",
       "      <th>Final F1 Score</th>\n",
       "    </tr>\n",
       "  </thead>\n",
       "  <tbody>\n",
       "    <tr>\n",
       "      <td>1</td>\n",
       "      <td>4.494900</td>\n",
       "      <td>3.822509</td>\n",
       "      <td>0.147359</td>\n",
       "      <td>0.001527</td>\n",
       "      <td>0.074443</td>\n",
       "    </tr>\n",
       "    <tr>\n",
       "      <td>2</td>\n",
       "      <td>3.616300</td>\n",
       "      <td>3.557470</td>\n",
       "      <td>0.248647</td>\n",
       "      <td>0.007675</td>\n",
       "      <td>0.128161</td>\n",
       "    </tr>\n",
       "    <tr>\n",
       "      <td>3</td>\n",
       "      <td>3.318900</td>\n",
       "      <td>3.391245</td>\n",
       "      <td>0.310963</td>\n",
       "      <td>0.010708</td>\n",
       "      <td>0.160835</td>\n",
       "    </tr>\n",
       "    <tr>\n",
       "      <td>4</td>\n",
       "      <td>3.074900</td>\n",
       "      <td>3.249994</td>\n",
       "      <td>0.417650</td>\n",
       "      <td>0.025334</td>\n",
       "      <td>0.221492</td>\n",
       "    </tr>\n",
       "    <tr>\n",
       "      <td>5</td>\n",
       "      <td>2.916000</td>\n",
       "      <td>3.171108</td>\n",
       "      <td>0.420650</td>\n",
       "      <td>0.027798</td>\n",
       "      <td>0.224224</td>\n",
       "    </tr>\n",
       "    <tr>\n",
       "      <td>6</td>\n",
       "      <td>2.750800</td>\n",
       "      <td>3.110565</td>\n",
       "      <td>0.443583</td>\n",
       "      <td>0.039798</td>\n",
       "      <td>0.241691</td>\n",
       "    </tr>\n",
       "    <tr>\n",
       "      <td>7</td>\n",
       "      <td>2.631200</td>\n",
       "      <td>3.069985</td>\n",
       "      <td>0.446114</td>\n",
       "      <td>0.041191</td>\n",
       "      <td>0.243652</td>\n",
       "    </tr>\n",
       "    <tr>\n",
       "      <td>8</td>\n",
       "      <td>2.526000</td>\n",
       "      <td>3.028808</td>\n",
       "      <td>0.458933</td>\n",
       "      <td>0.043122</td>\n",
       "      <td>0.251027</td>\n",
       "    </tr>\n",
       "    <tr>\n",
       "      <td>9</td>\n",
       "      <td>2.385200</td>\n",
       "      <td>2.986837</td>\n",
       "      <td>0.460850</td>\n",
       "      <td>0.047667</td>\n",
       "      <td>0.254258</td>\n",
       "    </tr>\n",
       "  </tbody>\n",
       "</table><p>"
      ],
      "text/plain": [
       "<IPython.core.display.HTML object>"
      ]
     },
     "metadata": {},
     "output_type": "display_data"
    },
    {
     "data": {
      "text/plain": [
       "TrainOutput(global_step=5080, training_loss=3.005067930446835, metrics={'train_runtime': 1344.238, 'train_samples_per_second': 30.24, 'train_steps_per_second': 3.779, 'total_flos': 1.0786302055016448e+16, 'train_loss': 3.005067930446835, 'epoch': 9.981800295130348})"
      ]
     },
     "execution_count": 20,
     "metadata": {},
     "output_type": "execute_result"
    }
   ],
   "source": [
    "st2_model = MultiLabelRoBERTa.from_pretrained(\"roberta-base\", num_hazard_labels=len(set(data_st2[\"hazard\"])), num_product_labels=len(set(data_st2[\"product\"])))\n",
    "\n",
    "st2_trainer = Trainer(\n",
    "    model=st2_model,\n",
    "    args=training_args,\n",
    "    train_dataset=train_dataset_st2,\n",
    "    eval_dataset=val_dataset_st2,  \n",
    "    compute_metrics=compute_f1_score_st2  \n",
    ")\n",
    "\n",
    "st2_trainer.train()"
   ]
  },
  {
   "cell_type": "markdown",
   "metadata": {},
   "source": [
    "### Evaluate the trained model "
   ]
  },
  {
   "cell_type": "code",
   "execution_count": 21,
   "metadata": {},
   "outputs": [
    {
     "data": {
      "text/html": [],
      "text/plain": [
       "<IPython.core.display.HTML object>"
      ]
     },
     "metadata": {},
     "output_type": "display_data"
    },
    {
     "data": {
      "text/plain": [
       "{'eval_loss': 2.9868366718292236,\n",
       " 'eval_F1_Hazard': 0.4608498441859284,\n",
       " 'eval_F1_Product': 0.0476668808097686,\n",
       " 'eval_Final_F1_Score': 0.2542583624978485,\n",
       " 'eval_runtime': 9.9086,\n",
       " 'eval_samples_per_second': 102.639,\n",
       " 'eval_steps_per_second': 51.37,\n",
       " 'epoch': 9.981800295130348}"
      ]
     },
     "execution_count": 21,
     "metadata": {},
     "output_type": "execute_result"
    }
   ],
   "source": [
    "st2_trainer.evaluate()"
   ]
  },
  {
   "cell_type": "markdown",
   "metadata": {},
   "source": [
    "### Generate predictions on test data "
   ]
  },
  {
   "cell_type": "code",
   "execution_count": 22,
   "metadata": {},
   "outputs": [
    {
     "name": "stdout",
     "output_type": "stream",
     "text": [
      "Submission file saved as submission_st2.csv!\n"
     ]
    }
   ],
   "source": [
    "import torch\n",
    "import pandas as pd\n",
    "\n",
    "def generate_predictions_st2(test_texts):\n",
    "    encodings = st2_tokenizer(test_texts, truncation=True, padding=\"longest\", max_length=128, return_tensors=\"pt\")\n",
    "\n",
    "    encodings.pop(\"token_type_ids\", None)  # Remove 'token_type_ids' if exists\n",
    "    \n",
    "    # Detect the device (CPU or GPU)\n",
    "    device = torch.device(\"cuda\" if torch.cuda.is_available() else \"cpu\")\n",
    "    \n",
    "    # Move model to the correct device\n",
    "    st2_model.to(device)\n",
    "    \n",
    "    # Move input tensors to the same device as the model\n",
    "    encodings = {key: val.to(device) for key, val in encodings.items()}\n",
    "\n",
    "    # Run inference\n",
    "    with torch.no_grad():\n",
    "        outputs = st2_model(**encodings)\n",
    "\n",
    "    # Get predictions\n",
    "    hazard_preds = outputs[\"hazard_logits\"].argmax(-1).cpu().tolist()\n",
    "    product_preds = outputs[\"product_logits\"].argmax(-1).cpu().tolist()\n",
    "\n",
    "    return hazard_encoder_st2.inverse_transform(hazard_preds), product_encoder_st2.inverse_transform(product_preds)\n",
    "\n",
    "# Load test dataset for ST2\n",
    "test_data_st2 = pd.read_csv(\"incidents_test.csv\")\n",
    "test_texts_st2 = test_data_st2[\"text\"].tolist()\n",
    "\n",
    "# Batch inference to avoid CUDA OOM\n",
    "batch_size = 16  # Adjust based on available GPU memory\n",
    "\n",
    "hazard_predictions_st2 = []\n",
    "product_predictions_st2 = []\n",
    "\n",
    "for i in range(0, len(test_texts_st2), batch_size):\n",
    "    batch = test_texts_st2[i:i + batch_size]\n",
    "    h_preds, p_preds = generate_predictions_st2(batch)\n",
    "    hazard_predictions_st2.extend(h_preds)\n",
    "    product_predictions_st2.extend(p_preds)\n",
    "\n",
    "# Store predictions in DataFrame\n",
    "test_data_st2[\"predicted_hazard\"] = hazard_predictions_st2\n",
    "test_data_st2[\"predicted_product\"] = product_predictions_st2\n",
    "\n",
    "# Keep only required columns\n",
    "test_data_st2 = test_data_st2[[\"Unnamed: 0\", \"predicted_hazard\", \"predicted_product\"]]\n",
    "\n",
    "# Save submission file\n",
    "test_data_st2.to_csv(\"submission_st2.csv\", index=False)\n",
    "print(\"Submission file saved as submission_st2.csv!\")\n"
   ]
  },
  {
   "cell_type": "markdown",
   "metadata": {},
   "source": [
    "### Show some predictions"
   ]
  },
  {
   "cell_type": "code",
   "execution_count": 23,
   "metadata": {},
   "outputs": [
    {
     "name": "stdout",
     "output_type": "stream",
     "text": [
      "First 5 Predictions:\n",
      "   Unnamed: 0        predicted_hazard       predicted_product\n",
      "0           0        plastic fragment  chicken based products\n",
      "1           1        plastic fragment  chicken based products\n",
      "2           2        plastic fragment  chicken based products\n",
      "3           3  listeria monocytogenes                     ham\n",
      "4           4          metal fragment               ice cream\n"
     ]
    }
   ],
   "source": [
    "# Print the first few rows to check predictions\n",
    "print(\"First 5 Predictions:\")\n",
    "print(test_data_st2[[\"Unnamed: 0\", \"predicted_hazard\", \"predicted_product\"]].head())  "
   ]
  },
  {
   "cell_type": "markdown",
   "metadata": {},
   "source": [
    "### Plotting "
   ]
  },
  {
   "cell_type": "markdown",
   "metadata": {},
   "source": [
    "We have made a plot in order to observe how the `training loss` reduces in each pass of the training data. (epochs)"
   ]
  },
  {
   "cell_type": "code",
   "execution_count": 24,
   "metadata": {},
   "outputs": [
    {
     "data": {
      "image/png": "[encoded data removed]",
      "text/plain": [
       "<Figure size 640x480 with 1 Axes>"
      ]
     },
     "metadata": {},
     "output_type": "display_data"
    }
   ],
   "source": [
    "import matplotlib.pyplot as plt\n",
    "\n",
    "# Extract loss values from Trainer logs\n",
    "train_losses = st2_trainer.state.log_history\n",
    "train_loss_values = [entry['loss'] for entry in train_losses if 'loss' in entry]\n",
    "epochs = list(range(1, len(train_loss_values) + 1))\n",
    "\n",
    "# Plot\n",
    "plt.plot(epochs, train_loss_values, marker=\"o\", label=\"Training Loss\")\n",
    "plt.xlabel(\"Epochs\")\n",
    "plt.ylabel(\"Loss\")\n",
    "plt.title(\"Training Loss vs. Epochs\")\n",
    "plt.legend()\n",
    "plt.grid()\n",
    "plt.show()\n"
   ]
  },
  {
   "cell_type": "markdown",
   "metadata": {},
   "source": [
    "We have made a plot in order to observe the distribution of predicted probabilities ."
   ]
  },
  {
   "cell_type": "code",
   "execution_count": 25,
   "metadata": {},
   "outputs": [],
   "source": [
    "import torch\n",
    "\n",
    "# Generate predictions from the trained model\n",
    "predictions = st2_trainer.predict(val_dataset).predictions\n",
    "\n",
    "# Apply sigmoid to get probabilities (since it's multi-label classification)\n",
    "probs = torch.sigmoid(torch.tensor(predictions[0])).numpy()\n",
    "\n"
   ]
  },
  {
   "cell_type": "code",
   "execution_count": 26,
   "metadata": {},
   "outputs": [
    {
     "data": {
      "image/png": "[encoded data removed]",
      "text/plain": [
       "<Figure size 640x480 with 1 Axes>"
      ]
     },
     "metadata": {},
     "output_type": "display_data"
    }
   ],
   "source": [
    "import matplotlib.pyplot as plt\n",
    "\n",
    "plt.hist(probs.ravel(), bins=50, alpha=0.75, color=\"blue\")\n",
    "plt.xlabel(\"Predicted Probability\")\n",
    "plt.ylabel(\"Frequency\")\n",
    "plt.title(\"Distribution of Predicted Probabilities\")\n",
    "plt.show()\n"
   ]
  },
  {
   "cell_type": "markdown",
   "metadata": {},
   "source": [
    "## Experimenting 1"
   ]
  },
  {
   "cell_type": "markdown",
   "metadata": {},
   "source": [
    "I searched that by using a different loss function for st2 f1 score will be enhanced . \n",
    "\n",
    "Tried to use `BCEWithLogitsLoss` as a loss function, but I could not understand how to correctly turn my data into `one-hot labels` and use them effectively. \n",
    "\n",
    "But , I experimented by trying to optimise my ST2 , so I made a new RoBERTa (supports both **CrossEntropyLoss** and **BCEWithLogitsLoss** ) and changed the stracture of my ST2 ."
   ]
  },
  {
   "cell_type": "markdown",
   "metadata": {},
   "source": [
    "### RoBERTa"
   ]
  },
  {
   "cell_type": "code",
   "execution_count": null,
   "metadata": {},
   "outputs": [],
   "source": [
    "import torch\n",
    "import torch.nn as nn\n",
    "from transformers import RobertaPreTrainedModel, RobertaModel\n",
    "\n",
    "class MultiTaskRoBERTa(RobertaPreTrainedModel):\n",
    "    def __init__(self, config, num_hazard_labels, num_product_labels, task=\"st1\"):\n",
    "        super().__init__(config)\n",
    "        self.roberta = RobertaModel(config)  # Shared RoBERTa backbone\n",
    "        self.dropout = nn.Dropout(0.4)\n",
    "\n",
    "        # ST1: Single-label classification (softmax output)\n",
    "        self.hazard_classifier_st1 = nn.Linear(config.hidden_size, num_hazard_labels)\n",
    "        self.product_classifier_st1 = nn.Linear(config.hidden_size, num_product_labels)\n",
    "\n",
    "        # ST2: Multi-label classification (sigmoid output)\n",
    "        self.hazard_classifier_st2 = nn.Linear(config.hidden_size, num_hazard_labels)\n",
    "        self.product_classifier_st2 = nn.Linear(config.hidden_size, num_product_labels)\n",
    "\n",
    "        # Store task type\n",
    "        self.task = task\n",
    "\n",
    "        # Loss functions\n",
    "        self.loss_fct_st1 = nn.CrossEntropyLoss()  # Single-label\n",
    "        self.loss_fct_st2 = nn.BCEWithLogitsLoss()  # Multi-label\n",
    "\n",
    "    def forward(self, input_ids, attention_mask, hazard_labels=None, product_labels=None, task=None):\n",
    "        outputs = self.roberta(input_ids, attention_mask=attention_mask)\n",
    "        pooled_output = outputs.pooler_output if outputs.pooler_output is not None else outputs.last_hidden_state[:, 0, :]\n",
    "\n",
    "        # Choose classifier based on task\n",
    "        task = task if task else self.task\n",
    "        if task == \"st1\":  \n",
    "            hazard_logits = self.hazard_classifier_st1(self.dropout(pooled_output))\n",
    "            product_logits = self.product_classifier_st1(self.dropout(pooled_output))\n",
    "        elif task == \"st2\":  \n",
    "            hazard_logits = self.hazard_classifier_st2(self.dropout(pooled_output))\n",
    "            product_logits = self.product_classifier_st2(self.dropout(pooled_output))\n",
    "        else:\n",
    "            raise ValueError(\"Invalid task. Choose 'st1' or 'st2'.\")\n",
    "\n",
    "        # Compute loss\n",
    "        loss = None\n",
    "        if hazard_labels is not None and product_labels is not None:\n",
    "            if task == \"st1\":\n",
    "                hazard_loss = self.loss_fct_st1(hazard_logits, hazard_labels.long())  \n",
    "                product_loss = self.loss_fct_st1(product_logits, product_labels.long())  \n",
    "            else:  # task == \"st2\"\n",
    "                hazard_loss = self.loss_fct_st2(hazard_logits, hazard_labels.float())  \n",
    "                product_loss = self.loss_fct_st2(product_logits, product_labels.float())  \n",
    "\n",
    "            loss = (hazard_loss + product_loss) / 2  # Average loss\n",
    "\n",
    "        return {\"loss\": loss, \"hazard_logits\": hazard_logits, \"product_logits\": product_logits}\n"
   ]
  },
  {
   "cell_type": "markdown",
   "metadata": {},
   "source": [
    "### Preprocess Data for ST2"
   ]
  },
  {
   "cell_type": "code",
   "execution_count": null,
   "metadata": {},
   "outputs": [
    {
     "name": "stdout",
     "output_type": "stream",
     "text": [
      "NER Applied & Labels One-Hot Encoded.\n",
      " Hazard classes: 128\n",
      " Product classes: 1022\n"
     ]
    }
   ],
   "source": [
    "import spacy\n",
    "import pandas as pd\n",
    "import torch\n",
    "from sklearn.preprocessing import MultiLabelBinarizer\n",
    "\n",
    "# Load spaCy NER model\n",
    "nlp = spacy.load(\"en_core_web_trf\")\n",
    "\n",
    "def extract_entities(text):\n",
    "    \"\"\"Extract named entities from text using spaCy\"\"\"\n",
    "    doc = nlp(text)\n",
    "    entities = [ent.text for ent in doc.ents]\n",
    "    return \" \".join(entities) if entities else \"NONE\"  \n",
    "\n",
    "# Apply Named Entity Recognition (NER) to extract entities\n",
    "data_st2[\"ner_features\"] = data_st2[\"text\"].apply(extract_entities)\n",
    "data_st2[\"text_with_ner\"] = data_st2[\"text\"] + \" [NER] \" + data_st2[\"ner_features\"]\n",
    "\n",
    "# Convert hazard and product labels to lists if they are not already\n",
    "data_st2[\"hazard\"] = data_st2[\"hazard\"].apply(lambda x: x if isinstance(x, list) else [x])\n",
    "data_st2[\"product\"] = data_st2[\"product\"].apply(lambda x: x if isinstance(x, list) else [x])\n",
    "\n",
    "# Use MultiLabelBinarizer for one-hot encoding\n",
    "hazard_encoder = MultiLabelBinarizer()\n",
    "product_encoder = MultiLabelBinarizer()\n",
    "\n",
    "data_st2[\"hazard_one_hot\"] = list(hazard_encoder.fit_transform(data_st2[\"hazard\"]))\n",
    "data_st2[\"product_one_hot\"] = list(product_encoder.fit_transform(data_st2[\"product\"]))\n",
    "\n",
    "# Get number of unique labels for training\n",
    "num_hazard_labels = len(hazard_encoder.classes_)\n",
    "num_product_labels = len(product_encoder.classes_)\n",
    "\n",
    "# Print summary\n",
    "print(\"NER Applied & Labels One-Hot Encoded.\")\n",
    "print(f\" Hazard classes: {num_hazard_labels}\")\n",
    "print(f\" Product classes: {num_product_labels}\")\n"
   ]
  },
  {
   "cell_type": "markdown",
   "metadata": {},
   "source": [
    "### Tokenize and Prepare PyTorch Dataset for ST2"
   ]
  },
  {
   "cell_type": "code",
   "execution_count": null,
   "metadata": {},
   "outputs": [],
   "source": [
    "from transformers import RobertaTokenizer\n",
    "from torch.utils.data import Dataset, DataLoader\n",
    "from sklearn.model_selection import train_test_split\n",
    "\n",
    "# Initialize RoBERTa tokenizer\n",
    "st2_tokenizer = RobertaTokenizer.from_pretrained(\"roberta-base\")\n",
    "\n",
    "class ST2Dataset(Dataset):\n",
    "    def __init__(self, texts, hazard_labels, product_labels):\n",
    "        self.encodings = st2_tokenizer(texts, truncation=True, padding=True, max_length=512, return_tensors=\"pt\")\n",
    "        self.hazard_labels = torch.tensor(hazard_labels, dtype=torch.float32)\n",
    "        self.product_labels = torch.tensor(product_labels, dtype=torch.float32)\n",
    "\n",
    "    def __len__(self):\n",
    "        return len(self.hazard_labels)\n",
    "\n",
    "    def __getitem__(self, idx):\n",
    "        item = {key: val[idx] for key, val in self.encodings.items()}\n",
    "        item[\"hazard_labels\"] = self.hazard_labels[idx]\n",
    "        item[\"product_labels\"] = self.product_labels[idx]\n",
    "        return item\n",
    "\n",
    "# Split the dataset into training (80%) and validation (20%)\n",
    "train_texts, val_texts, train_hazards, val_hazards, train_products, val_products = train_test_split(\n",
    "    data_st2[\"text_with_ner\"].tolist(),\n",
    "    data_st2[\"hazard_one_hot\"].tolist(),\n",
    "    data_st2[\"product_one_hot\"].tolist(),\n",
    "    test_size=0.2, random_state=42\n",
    ")\n",
    "\n",
    "# Create PyTorch datasets\n",
    "train_dataset = ST2Dataset(train_texts, train_hazards, train_products)\n",
    "val_dataset = ST2Dataset(val_texts, val_hazards, val_products)\n"
   ]
  },
  {
   "cell_type": "code",
   "execution_count": null,
   "metadata": {},
   "outputs": [
    {
     "name": "stdout",
     "output_type": "stream",
     "text": [
      "Sample Hazard Labels (One-Hot): [0 0 0 0 0 0 0 0 0 0 0 0 0 0 0 0 0 0 0 0 0 0 0 0 0 0 0 0 0 0 0 0 0 0 0 0 0\n",
      " 0 0 0 0 0 0 0 0 0 0 0 0 0 0 0 0 0 0 1 0 0 0 0 0 0 0 0 0 0 0 0 0 0 0 0 0 0\n",
      " 0 0 0 0 0 0 0 0 0 0 0 0 0 0 0 0 0 0 0 0 0 0 0 0 0 0 0 0 0 0 0 0 0 0 0 0 0\n",
      " 0 0 0 0 0 0 0 0 0 0 0 0 0 0 0 0 0]\n",
      "Sample Product Labels (One-Hot): [0 0 0 ... 0 0 0]\n"
     ]
    }
   ],
   "source": [
    "print(\"Sample Hazard Labels (One-Hot):\", data_st2[\"hazard_one_hot\"].iloc[0])\n",
    "print(\"Sample Product Labels (One-Hot):\", data_st2[\"product_one_hot\"].iloc[0])\n"
   ]
  },
  {
   "cell_type": "markdown",
   "metadata": {},
   "source": [
    "### Funtion to compute f1 score"
   ]
  },
  {
   "cell_type": "code",
   "execution_count": null,
   "metadata": {},
   "outputs": [],
   "source": [
    "import numpy as np\n",
    "import torch\n",
    "from sklearn.metrics import f1_score\n",
    "\n",
    "def compute_f1_score_st2(eval_pred):\n",
    "    logits, labels = eval_pred  \n",
    "\n",
    "    # Apply sigmoid activation for multi-label classification\n",
    "    hazard_logits, product_logits = logits\n",
    "    hazard_probs = torch.sigmoid(torch.tensor(hazard_logits)).numpy()\n",
    "    product_probs = torch.sigmoid(torch.tensor(product_logits)).numpy()\n",
    "\n",
    "    # Convert probabilities to binary predictions (threshold = 0.5)\n",
    "    hazard_preds = (hazard_probs > 0.5).astype(int)\n",
    "    product_preds = (product_probs > 0.5).astype(int)\n",
    "\n",
    "    # Check if labels are non-empty before computing F1-score\n",
    "    if labels[0].sum() == 0 and labels[1].sum() == 0:\n",
    "        return {\"F1_Hazard\": 0.0, \"F1_Product\": 0.0, \"Final_F1_Score\": 0.0}\n",
    "\n",
    "    # Compute F1-score with zero_division=1 to avoid undefined metrics\n",
    "    f1_hazard = f1_score(labels[0], hazard_preds, average=\"macro\", zero_division=1)\n",
    "    f1_product = f1_score(labels[1], product_preds, average=\"macro\", zero_division=1)\n",
    "\n",
    "    # Compute final ST2 score\n",
    "    final_f1_score = (f1_hazard + f1_product) / 2\n",
    "\n",
    "    return {\"F1_Hazard\": f1_hazard, \"F1_Product\": f1_product, \"Final_F1_Score\": final_f1_score}\n"
   ]
  },
  {
   "cell_type": "markdown",
   "metadata": {},
   "source": [
    "### Train ST2 Model"
   ]
  },
  {
   "cell_type": "code",
   "execution_count": null,
   "metadata": {},
   "outputs": [
    {
     "name": "stderr",
     "output_type": "stream",
     "text": [
      "Some weights of MultiTaskRoBERTa were not initialized from the model checkpoint at roberta-base and are newly initialized: ['hazard_classifier_st2.bias', 'hazard_classifier_st2.weight', 'loss_fct_st2.pos_weight', 'loss_fct_st2_product.pos_weight', 'product_classifier_st2.bias', 'product_classifier_st2.weight', 'roberta.pooler.dense.bias', 'roberta.pooler.dense.weight']\n",
      "You should probably TRAIN this model on a down-stream task to be able to use it for predictions and inference.\n"
     ]
    },
    {
     "data": {
      "text/html": [
       "\n",
       "    <div>\n",
       "      \n",
       "      <progress value='1016' max='1016' style='width:300px; height:20px; vertical-align: middle;'></progress>\n",
       "      [1016/1016 04:13, Epoch 1/2]\n",
       "    </div>\n",
       "    <table border=\"1\" class=\"dataframe\">\n",
       "  <thead>\n",
       " <tr style=\"text-align: left;\">\n",
       "      <th>Epoch</th>\n",
       "      <th>Training Loss</th>\n",
       "      <th>Validation Loss</th>\n",
       "    </tr>\n",
       "  </thead>\n",
       "  <tbody>\n",
       "    <tr>\n",
       "      <td>1</td>\n",
       "      <td>0.044300</td>\n",
       "      <td>0.040710</td>\n",
       "    </tr>\n",
       "  </tbody>\n",
       "</table><p>"
      ],
      "text/plain": [
       "<IPython.core.display.HTML object>"
      ]
     },
     "metadata": {},
     "output_type": "display_data"
    },
    {
     "data": {
      "text/plain": [
       "TrainOutput(global_step=1016, training_loss=0.08948739664995764, metrics={'train_runtime': 253.8401, 'train_samples_per_second': 32.028, 'train_steps_per_second': 4.003, 'total_flos': 2158749020104704.0, 'train_loss': 0.08948739664995764, 'epoch': 1.9975405804230202})"
      ]
     },
     "metadata": {},
     "output_type": "display_data"
    }
   ],
   "source": [
    "from transformers import Trainer, TrainingArguments, RobertaConfig\n",
    "\n",
    "# Load model configuration\n",
    "config = RobertaConfig.from_pretrained(\"roberta-base\")\n",
    "config.num_hazard_labels = num_hazard_labels\n",
    "config.num_product_labels = num_product_labels\n",
    "\n",
    "# Initialize model\n",
    "st2_model = MultiTaskRoBERTa.from_pretrained(\n",
    "    \"roberta-base\",\n",
    "    config=config,\n",
    "    num_hazard_labels=num_hazard_labels,\n",
    "    num_product_labels=num_product_labels,\n",
    "    task=\"st2\"\n",
    ")\n",
    "\n",
    "# Initialize Trainer\n",
    "st2_trainer = Trainer(\n",
    "    model=st2_model,\n",
    "    args=training_args,\n",
    "    train_dataset=train_dataset,\n",
    "    eval_dataset=val_dataset,\n",
    ")\n",
    "\n",
    "# Start Training\n",
    "st2_trainer.train()\n",
    "\n"
   ]
  },
  {
   "cell_type": "markdown",
   "metadata": {},
   "source": [
    "## Experimenting 2 "
   ]
  },
  {
   "cell_type": "markdown",
   "metadata": {},
   "source": [
    "### Trying to implement st1 predictions as features "
   ]
  },
  {
   "cell_type": "code",
   "execution_count": null,
   "metadata": {},
   "outputs": [],
   "source": [
    "import spacy\n",
    "from sklearn.preprocessing import LabelEncoder\n",
    "#from sklearn.preprocessing import MultiLabelBinarizer\n",
    "\n",
    "# Load spaCy NER model\n",
    "nlp = spacy.load(\"en_core_web_sm\")\n",
    "\n",
    "# def extract_entities(text):\n",
    "#     \"\"\"Extract named entities from text using spaCy\"\"\"\n",
    "#     doc = nlp(text)\n",
    "#     entities = [ent.text for ent in doc.ents]\n",
    "#     return \" \".join(entities) if entities else \"NONE\"  # Avoid empty NER fields\n",
    "\n",
    "# # Load data\n",
    "# data_st2[\"ner_features\"] = data_st2[\"text\"].apply(extract_entities)\n",
    "\n",
    "# Combined with the original text.\n",
    "data_st2[\"text_with_ner\"] = data_st2[\"text\"] \n",
    "\n",
    "# + \" [NER] \" + data_st2[\"ner_features\"]\n",
    "\n",
    "# Encode ST1 hazard and product predictions\n",
    "st1_hazard_encoder = LabelEncoder()\n",
    "st1_product_encoder = LabelEncoder()\n",
    "\n",
    "st1_dataset[\"st1_hazard_encoded\"] = st1_hazard_encoder.fit_transform(st1_dataset[\"predicted_hazard\"])\n",
    "st1_dataset[\"st1_product_encoded\"] = st1_product_encoder.fit_transform(st1_dataset[\"predicted_product\"])\n",
    "\n",
    "\n",
    "# Encode hazard and product labels\n",
    "hazard_encoder_st2 = LabelEncoder()\n",
    "product_encoder_st2 = LabelEncoder()\n",
    "\n",
    "data_st2[\"hazard\"] = hazard_encoder_st2.fit_transform(data_st2[\"hazard\"])\n",
    "data_st2[\"product\"] = product_encoder_st2.fit_transform(data_st2[\"product\"])\n",
    "\n",
    "data_st2[\"st1_hazard_feature\"] = st1_dataset[\"st1_hazard_encoded\"]\n",
    "data_st2[\"st1_product_feature\"] = st1_dataset[\"st1_product_encoded\"]\n",
    "\n",
    "# **Convert `hazard` & `product` labels to lists for MultiLabelBinarizer**\n",
    "# data_st2[\"hazard\"] = data_st2[\"hazard\"].apply(lambda x: [x] if isinstance(x, int) else x)\n",
    "# data_st2[\"product\"] = data_st2[\"product\"].apply(lambda x: [x] if isinstance(x, int) else x)\n",
    "\n",
    "# # Use MultiLabelBinarizer for encoding labels\n",
    "# hazard_encoder_st2 = MultiLabelBinarizer()\n",
    "# product_encoder_st2 = MultiLabelBinarizer()\n",
    "\n",
    "print(\"Preprocessing Completed!\")"
   ]
  },
  {
   "cell_type": "markdown",
   "metadata": {},
   "source": [
    "### Creation of PyTorch dataset class to store: `Tokenized text` , `Hazard labels` , `Product labels`"
   ]
  },
  {
   "cell_type": "code",
   "execution_count": null,
   "metadata": {},
   "outputs": [],
   "source": [
    "# Ensure all values in `text_with_ner` are strings and fill NaN values\n",
    "data_st2[\"text_with_ner\"] = data_st2[\"text_with_ner\"].astype(str).fillna(\"\")\n",
    "\n",
    "# Tokenize using roBERTa\n",
    "st2_tokenizer = RobertaTokenizer.from_pretrained(\"roberta-base\")\n",
    "st2_encodings = st2_tokenizer(list(data_st2[\"text_with_ner\"]), truncation=True, padding=True, max_length=512,return_tensors=\"pt\")\n",
    "\n",
    "# Remove token_type_ids before passing to model\n",
    "st2_encodings.pop(\"token_type_ids\", None)\n",
    "\n",
    "import torch\n",
    "\n",
    "class ST2Dataset(torch.utils.data.Dataset):\n",
    "    def __init__(self, encodings, hazard_labels, product_labels, st1_hazard=None, st1_product=None):\n",
    "        self.encodings = encodings\n",
    "        self.hazard_labels = hazard_labels\n",
    "        self.product_labels = product_labels\n",
    "        self.st1_hazard = st1_hazard\n",
    "        self.st1_product = st1_product\n",
    "\n",
    "    def __len__(self):\n",
    "        return len(self.hazard_labels)\n",
    "\n",
    "    def __getitem__(self, idx):\n",
    "        item = {key: torch.tensor(val[idx]) for key, val in self.encodings.items()}\n",
    "        item[\"hazard_labels\"] = torch.tensor(self.hazard_labels[idx])\n",
    "        item[\"product_labels\"] = torch.tensor(self.product_labels[idx])\n",
    "\n",
    "        # Add ST1 features as structured inputs\n",
    "        if self.st1_hazard is not None and self.st1_product is not None:\n",
    "            item[\"st1_hazard\"] = torch.tensor(self.st1_hazard[idx])\n",
    "            item[\"st1_product\"] = torch.tensor(self.st1_product[idx])\n",
    "\n",
    "        return item\n",
    "\n",
    "\n",
    "# Split the dataset into training (80%) and validation (20%)\n",
    "train_texts_st2, val_texts_st2, train_hazards_st2, val_hazards_st2, train_products_st2, val_products_st2 = train_test_split(\n",
    "    data_st2[\"text_with_ner\"].tolist(),\n",
    "    data_st2[\"hazard\"].tolist(),\n",
    "    data_st2[\"product\"].tolist(),\n",
    "    test_size=0.2, random_state=42\n",
    ")\n",
    "\n",
    "# Tokenize training and validation texts\n",
    "train_encodings_st2 = st2_tokenizer(train_texts_st2, truncation=True, padding=True, max_length=512)\n",
    "val_encodings_st2 = st2_tokenizer(val_texts_st2, truncation=True, padding=True, max_length=512)\n",
    "\n",
    "# Convert tokenized data to PyTorch dataset\n",
    "\n",
    "train_features = {\n",
    "    \"input_ids\": train_encodings_st2[\"input_ids\"],\n",
    "    \"attention_mask\": train_encodings_st2[\"attention_mask\"],\n",
    "    \"st1_hazard\": torch.tensor(data_st2[\"st1_hazard_feature\"]),\n",
    "    \"st1_product\": torch.tensor(data_st2[\"st1_product_feature\"])\n",
    "}\n",
    "\n",
    "# Train dataset with ST1 predictions as extra inputs\n",
    "train_dataset_st2 = ST2Dataset(\n",
    "    train_encodings_st2,\n",
    "    train_hazards_st2,\n",
    "    train_products_st2,\n",
    "    st1_hazard=train_features[\"st1_hazard\"],  # Pass ST1 hazard predictions\n",
    "    st1_product=train_features[\"st1_product\"]  # Pass ST1 product predictions\n",
    ")\n",
    "\n",
    "# Validation dataset (without ST1)\n",
    "val_dataset_st2 = ST2Dataset(\n",
    "    val_encodings_st2,\n",
    "    val_hazards_st2,\n",
    "    val_products_st2\n",
    ")\n",
    "\n",
    "print(\"Tokenization completed!\")"
   ]
  }
 ],
 "metadata": {
  "kernelspec": {
   "display_name": "conda_python3",
   "language": "python",
   "name": "conda_python3"
  },
  "language_info": {
   "codemirror_mode": {
    "name": "ipython",
    "version": 3
   },
   "file_extension": ".py",
   "mimetype": "text/x-python",
   "name": "python",
   "nbconvert_exporter": "python",
   "pygments_lexer": "ipython3",
   "version": "3.10.16"
  }
 },
 "nbformat": 4,
 "nbformat_minor": 4
}
